{
 "cells": [
  {
   "cell_type": "code",
   "execution_count": 4,
   "id": "c7d567d5-4372-4555-ac39-e42053c49c00",
   "metadata": {},
   "outputs": [],
   "source": [
    "import statsmodels.api as sm\n",
    "import pandas as pd"
   ]
  },
  {
   "cell_type": "code",
   "execution_count": 15,
   "id": "2e080c85-6f0d-4ffd-aec3-092198acc739",
   "metadata": {},
   "outputs": [],
   "source": [
    "price0 = pd.read_csv('R1_day0.csv',header=0,delimiter=';')\n",
    "price1 = pd.read_csv('R1_day-1.csv',header=0,delimiter=';')\n",
    "price2 = pd.read_csv('R1_day-2.csv',header=0,delimiter=';')"
   ]
  },
  {
   "cell_type": "code",
   "execution_count": 27,
   "id": "c0e54e56-17ab-421c-b26d-3f915c9e544b",
   "metadata": {},
   "outputs": [],
   "source": [
    "price0_SF = price0[price0['product']=='STARFRUIT']['mid_price']\n",
    "price1_SF = price1[price1['product']=='STARFRUIT']['mid_price']\n",
    "price2_SF = price2[price2['product']=='STARFRUIT']['mid_price']"
   ]
  },
  {
   "cell_type": "code",
   "execution_count": 32,
   "id": "5e9a4fa9-a1cc-4cc0-a8f9-58fc5a455b6e",
   "metadata": {},
   "outputs": [],
   "source": [
    "ts = pd.concat([price2_SF,price1_SF,price0_SF]).reset_index(drop=True)"
   ]
  },
  {
   "cell_type": "markdown",
   "id": "d5e5a21d-313b-4e12-9a14-966435b4ee17",
   "metadata": {},
   "source": [
    "# Model v1"
   ]
  },
  {
   "cell_type": "code",
   "execution_count": 61,
   "id": "4ceab61e-837e-4bfe-a4dd-ec40505d8b92",
   "metadata": {},
   "outputs": [
    {
     "data": {
      "text/plain": [
       "0        5000.0\n",
       "1        5002.0\n",
       "2        5000.0\n",
       "3        4999.5\n",
       "4        4998.5\n",
       "          ...  \n",
       "29995    5052.5\n",
       "29996    5051.0\n",
       "29997    5053.5\n",
       "29998    5049.5\n",
       "29999    5051.0\n",
       "Name: mid_price, Length: 30000, dtype: float64"
      ]
     },
     "execution_count": 61,
     "metadata": {},
     "output_type": "execute_result"
    }
   ],
   "source": [
    "ts"
   ]
  },
  {
   "cell_type": "code",
   "execution_count": 60,
   "id": "00f70d51-55ef-4733-8a3b-eec8725e3bca",
   "metadata": {},
   "outputs": [
    {
     "data": {
      "text/html": [
       "<div>\n",
       "<style scoped>\n",
       "    .dataframe tbody tr th:only-of-type {\n",
       "        vertical-align: middle;\n",
       "    }\n",
       "\n",
       "    .dataframe tbody tr th {\n",
       "        vertical-align: top;\n",
       "    }\n",
       "\n",
       "    .dataframe thead th {\n",
       "        text-align: right;\n",
       "    }\n",
       "</style>\n",
       "<table border=\"1\" class=\"dataframe\">\n",
       "  <thead>\n",
       "    <tr style=\"text-align: right;\">\n",
       "      <th></th>\n",
       "      <th>lag1</th>\n",
       "      <th>lag2</th>\n",
       "      <th>lag3</th>\n",
       "      <th>lag4</th>\n",
       "      <th>target</th>\n",
       "    </tr>\n",
       "  </thead>\n",
       "  <tbody>\n",
       "    <tr>\n",
       "      <th>0</th>\n",
       "      <td>4999.5</td>\n",
       "      <td>5000.0</td>\n",
       "      <td>5002.0</td>\n",
       "      <td>5000.0</td>\n",
       "      <td>4998.5</td>\n",
       "    </tr>\n",
       "    <tr>\n",
       "      <th>1</th>\n",
       "      <td>4998.5</td>\n",
       "      <td>4999.5</td>\n",
       "      <td>5000.0</td>\n",
       "      <td>5002.0</td>\n",
       "      <td>5002.0</td>\n",
       "    </tr>\n",
       "    <tr>\n",
       "      <th>2</th>\n",
       "      <td>5002.0</td>\n",
       "      <td>4998.5</td>\n",
       "      <td>4999.5</td>\n",
       "      <td>5000.0</td>\n",
       "      <td>4999.5</td>\n",
       "    </tr>\n",
       "    <tr>\n",
       "      <th>3</th>\n",
       "      <td>4999.5</td>\n",
       "      <td>5002.0</td>\n",
       "      <td>4998.5</td>\n",
       "      <td>4999.5</td>\n",
       "      <td>5000.0</td>\n",
       "    </tr>\n",
       "    <tr>\n",
       "      <th>4</th>\n",
       "      <td>5000.0</td>\n",
       "      <td>4999.5</td>\n",
       "      <td>5002.0</td>\n",
       "      <td>4998.5</td>\n",
       "      <td>5002.5</td>\n",
       "    </tr>\n",
       "    <tr>\n",
       "      <th>...</th>\n",
       "      <td>...</td>\n",
       "      <td>...</td>\n",
       "      <td>...</td>\n",
       "      <td>...</td>\n",
       "      <td>...</td>\n",
       "    </tr>\n",
       "    <tr>\n",
       "      <th>29991</th>\n",
       "      <td>5051.5</td>\n",
       "      <td>5052.0</td>\n",
       "      <td>5051.5</td>\n",
       "      <td>5052.0</td>\n",
       "      <td>5052.5</td>\n",
       "    </tr>\n",
       "    <tr>\n",
       "      <th>29992</th>\n",
       "      <td>5052.5</td>\n",
       "      <td>5051.5</td>\n",
       "      <td>5052.0</td>\n",
       "      <td>5051.5</td>\n",
       "      <td>5051.0</td>\n",
       "    </tr>\n",
       "    <tr>\n",
       "      <th>29993</th>\n",
       "      <td>5051.0</td>\n",
       "      <td>5052.5</td>\n",
       "      <td>5051.5</td>\n",
       "      <td>5052.0</td>\n",
       "      <td>5053.5</td>\n",
       "    </tr>\n",
       "    <tr>\n",
       "      <th>29994</th>\n",
       "      <td>5053.5</td>\n",
       "      <td>5051.0</td>\n",
       "      <td>5052.5</td>\n",
       "      <td>5051.5</td>\n",
       "      <td>5049.5</td>\n",
       "    </tr>\n",
       "    <tr>\n",
       "      <th>29995</th>\n",
       "      <td>5049.5</td>\n",
       "      <td>5053.5</td>\n",
       "      <td>5051.0</td>\n",
       "      <td>5052.5</td>\n",
       "      <td>5051.0</td>\n",
       "    </tr>\n",
       "  </tbody>\n",
       "</table>\n",
       "<p>29996 rows × 5 columns</p>\n",
       "</div>"
      ],
      "text/plain": [
       "         lag1    lag2    lag3    lag4  target\n",
       "0      4999.5  5000.0  5002.0  5000.0  4998.5\n",
       "1      4998.5  4999.5  5000.0  5002.0  5002.0\n",
       "2      5002.0  4998.5  4999.5  5000.0  4999.5\n",
       "3      4999.5  5002.0  4998.5  4999.5  5000.0\n",
       "4      5000.0  4999.5  5002.0  4998.5  5002.5\n",
       "...       ...     ...     ...     ...     ...\n",
       "29991  5051.5  5052.0  5051.5  5052.0  5052.5\n",
       "29992  5052.5  5051.5  5052.0  5051.5  5051.0\n",
       "29993  5051.0  5052.5  5051.5  5052.0  5053.5\n",
       "29994  5053.5  5051.0  5052.5  5051.5  5049.5\n",
       "29995  5049.5  5053.5  5051.0  5052.5  5051.0\n",
       "\n",
       "[29996 rows x 5 columns]"
      ]
     },
     "execution_count": 60,
     "metadata": {},
     "output_type": "execute_result"
    }
   ],
   "source": [
    "LR_df"
   ]
  },
  {
   "cell_type": "code",
   "execution_count": 41,
   "id": "a7ffc0ad-e240-4523-86ce-ff9f2914b5a0",
   "metadata": {},
   "outputs": [],
   "source": [
    "LR_df = pd.DataFrame({'lag1': ts.shift(1),\n",
    "              'lag2': ts.shift(2),\n",
    "              'lag3': ts.shift(3),\n",
    "              'lag4': ts.shift(4),\n",
    "              'target': ts})"
   ]
  },
  {
   "cell_type": "code",
   "execution_count": 46,
   "id": "265acf9a-1f84-44c0-933b-aa8a5b63166d",
   "metadata": {},
   "outputs": [],
   "source": [
    "LR_df = LR_df.dropna().reset_index(drop=True)"
   ]
  },
  {
   "cell_type": "code",
   "execution_count": 51,
   "id": "9349a9c3-f479-4fa0-98f8-22e1bee4efbc",
   "metadata": {},
   "outputs": [],
   "source": [
    "X = LR_df[['lag1','lag2','lag3','lag4']]\n",
    "y = LR_df['target']\n",
    "model = sm.OLS(y, sm.add_constant(X))\n",
    "results = model.fit()"
   ]
  },
  {
   "cell_type": "code",
   "execution_count": 54,
   "id": "49c365a2-7f1c-4154-b1c7-c901afcd6bf6",
   "metadata": {},
   "outputs": [
    {
     "data": {
      "text/plain": [
       "const    2.356494\n",
       "lag1     0.341769\n",
       "lag2     0.261069\n",
       "lag3     0.207707\n",
       "lag4     0.188988\n",
       "dtype: float64"
      ]
     },
     "execution_count": 54,
     "metadata": {},
     "output_type": "execute_result"
    }
   ],
   "source": [
    "results.params"
   ]
  },
  {
   "cell_type": "code",
   "execution_count": 55,
   "id": "4a400f1c-9c16-419a-aec5-c35c5f3625a0",
   "metadata": {},
   "outputs": [
    {
     "data": {
      "text/html": [
       "<table class=\"simpletable\">\n",
       "<caption>OLS Regression Results</caption>\n",
       "<tr>\n",
       "  <th>Dep. Variable:</th>         <td>target</td>      <th>  R-squared:         </th> <td>   0.998</td> \n",
       "</tr>\n",
       "<tr>\n",
       "  <th>Model:</th>                   <td>OLS</td>       <th>  Adj. R-squared:    </th> <td>   0.998</td> \n",
       "</tr>\n",
       "<tr>\n",
       "  <th>Method:</th>             <td>Least Squares</td>  <th>  F-statistic:       </th> <td>3.939e+06</td>\n",
       "</tr>\n",
       "<tr>\n",
       "  <th>Date:</th>             <td>Wed, 10 Apr 2024</td> <th>  Prob (F-statistic):</th>  <td>  0.00</td>  \n",
       "</tr>\n",
       "<tr>\n",
       "  <th>Time:</th>                 <td>20:36:39</td>     <th>  Log-Likelihood:    </th> <td> -52824.</td> \n",
       "</tr>\n",
       "<tr>\n",
       "  <th>No. Observations:</th>      <td> 29996</td>      <th>  AIC:               </th> <td>1.057e+05</td>\n",
       "</tr>\n",
       "<tr>\n",
       "  <th>Df Residuals:</th>          <td> 29991</td>      <th>  BIC:               </th> <td>1.057e+05</td>\n",
       "</tr>\n",
       "<tr>\n",
       "  <th>Df Model:</th>              <td>     4</td>      <th>                     </th>     <td> </td>    \n",
       "</tr>\n",
       "<tr>\n",
       "  <th>Covariance Type:</th>      <td>nonrobust</td>    <th>                     </th>     <td> </td>    \n",
       "</tr>\n",
       "</table>\n",
       "<table class=\"simpletable\">\n",
       "<tr>\n",
       "    <td></td>       <th>coef</th>     <th>std err</th>      <th>t</th>      <th>P>|t|</th>  <th>[0.025</th>    <th>0.975]</th>  \n",
       "</tr>\n",
       "<tr>\n",
       "  <th>const</th> <td>    2.3565</td> <td>    1.268</td> <td>    1.858</td> <td> 0.063</td> <td>   -0.130</td> <td>    4.843</td>\n",
       "</tr>\n",
       "<tr>\n",
       "  <th>lag1</th>  <td>    0.3418</td> <td>    0.006</td> <td>   60.274</td> <td> 0.000</td> <td>    0.331</td> <td>    0.353</td>\n",
       "</tr>\n",
       "<tr>\n",
       "  <th>lag2</th>  <td>    0.2611</td> <td>    0.006</td> <td>   44.376</td> <td> 0.000</td> <td>    0.250</td> <td>    0.273</td>\n",
       "</tr>\n",
       "<tr>\n",
       "  <th>lag3</th>  <td>    0.2077</td> <td>    0.006</td> <td>   35.304</td> <td> 0.000</td> <td>    0.196</td> <td>    0.219</td>\n",
       "</tr>\n",
       "<tr>\n",
       "  <th>lag4</th>  <td>    0.1890</td> <td>    0.006</td> <td>   33.328</td> <td> 0.000</td> <td>    0.178</td> <td>    0.200</td>\n",
       "</tr>\n",
       "</table>\n",
       "<table class=\"simpletable\">\n",
       "<tr>\n",
       "  <th>Omnibus:</th>       <td>437.009</td> <th>  Durbin-Watson:     </th> <td>   2.053</td> \n",
       "</tr>\n",
       "<tr>\n",
       "  <th>Prob(Omnibus):</th> <td> 0.000</td>  <th>  Jarque-Bera (JB):  </th> <td> 831.420</td> \n",
       "</tr>\n",
       "<tr>\n",
       "  <th>Skew:</th>          <td> 0.031</td>  <th>  Prob(JB):          </th> <td>2.88e-181</td>\n",
       "</tr>\n",
       "<tr>\n",
       "  <th>Kurtosis:</th>      <td> 3.813</td>  <th>  Cond. No.          </th> <td>1.57e+06</td> \n",
       "</tr>\n",
       "</table><br/><br/>Notes:<br/>[1] Standard Errors assume that the covariance matrix of the errors is correctly specified.<br/>[2] The condition number is large, 1.57e+06. This might indicate that there are<br/>strong multicollinearity or other numerical problems."
      ],
      "text/latex": [
       "\\begin{center}\n",
       "\\begin{tabular}{lclc}\n",
       "\\toprule\n",
       "\\textbf{Dep. Variable:}    &      target      & \\textbf{  R-squared:         } &     0.998   \\\\\n",
       "\\textbf{Model:}            &       OLS        & \\textbf{  Adj. R-squared:    } &     0.998   \\\\\n",
       "\\textbf{Method:}           &  Least Squares   & \\textbf{  F-statistic:       } & 3.939e+06   \\\\\n",
       "\\textbf{Date:}             & Wed, 10 Apr 2024 & \\textbf{  Prob (F-statistic):} &     0.00    \\\\\n",
       "\\textbf{Time:}             &     20:36:39     & \\textbf{  Log-Likelihood:    } &   -52824.   \\\\\n",
       "\\textbf{No. Observations:} &       29996      & \\textbf{  AIC:               } & 1.057e+05   \\\\\n",
       "\\textbf{Df Residuals:}     &       29991      & \\textbf{  BIC:               } & 1.057e+05   \\\\\n",
       "\\textbf{Df Model:}         &           4      & \\textbf{                     } &             \\\\\n",
       "\\textbf{Covariance Type:}  &    nonrobust     & \\textbf{                     } &             \\\\\n",
       "\\bottomrule\n",
       "\\end{tabular}\n",
       "\\begin{tabular}{lcccccc}\n",
       "               & \\textbf{coef} & \\textbf{std err} & \\textbf{t} & \\textbf{P$> |$t$|$} & \\textbf{[0.025} & \\textbf{0.975]}  \\\\\n",
       "\\midrule\n",
       "\\textbf{const} &       2.3565  &        1.268     &     1.858  &         0.063        &       -0.130    &        4.843     \\\\\n",
       "\\textbf{lag1}  &       0.3418  &        0.006     &    60.274  &         0.000        &        0.331    &        0.353     \\\\\n",
       "\\textbf{lag2}  &       0.2611  &        0.006     &    44.376  &         0.000        &        0.250    &        0.273     \\\\\n",
       "\\textbf{lag3}  &       0.2077  &        0.006     &    35.304  &         0.000        &        0.196    &        0.219     \\\\\n",
       "\\textbf{lag4}  &       0.1890  &        0.006     &    33.328  &         0.000        &        0.178    &        0.200     \\\\\n",
       "\\bottomrule\n",
       "\\end{tabular}\n",
       "\\begin{tabular}{lclc}\n",
       "\\textbf{Omnibus:}       & 437.009 & \\textbf{  Durbin-Watson:     } &     2.053  \\\\\n",
       "\\textbf{Prob(Omnibus):} &   0.000 & \\textbf{  Jarque-Bera (JB):  } &   831.420  \\\\\n",
       "\\textbf{Skew:}          &   0.031 & \\textbf{  Prob(JB):          } & 2.88e-181  \\\\\n",
       "\\textbf{Kurtosis:}      &   3.813 & \\textbf{  Cond. No.          } &  1.57e+06  \\\\\n",
       "\\bottomrule\n",
       "\\end{tabular}\n",
       "%\\caption{OLS Regression Results}\n",
       "\\end{center}\n",
       "\n",
       "Notes: \\newline\n",
       " [1] Standard Errors assume that the covariance matrix of the errors is correctly specified. \\newline\n",
       " [2] The condition number is large, 1.57e+06. This might indicate that there are \\newline\n",
       " strong multicollinearity or other numerical problems."
      ],
      "text/plain": [
       "<class 'statsmodels.iolib.summary.Summary'>\n",
       "\"\"\"\n",
       "                            OLS Regression Results                            \n",
       "==============================================================================\n",
       "Dep. Variable:                 target   R-squared:                       0.998\n",
       "Model:                            OLS   Adj. R-squared:                  0.998\n",
       "Method:                 Least Squares   F-statistic:                 3.939e+06\n",
       "Date:                Wed, 10 Apr 2024   Prob (F-statistic):               0.00\n",
       "Time:                        20:36:39   Log-Likelihood:                -52824.\n",
       "No. Observations:               29996   AIC:                         1.057e+05\n",
       "Df Residuals:                   29991   BIC:                         1.057e+05\n",
       "Df Model:                           4                                         \n",
       "Covariance Type:            nonrobust                                         \n",
       "==============================================================================\n",
       "                 coef    std err          t      P>|t|      [0.025      0.975]\n",
       "------------------------------------------------------------------------------\n",
       "const          2.3565      1.268      1.858      0.063      -0.130       4.843\n",
       "lag1           0.3418      0.006     60.274      0.000       0.331       0.353\n",
       "lag2           0.2611      0.006     44.376      0.000       0.250       0.273\n",
       "lag3           0.2077      0.006     35.304      0.000       0.196       0.219\n",
       "lag4           0.1890      0.006     33.328      0.000       0.178       0.200\n",
       "==============================================================================\n",
       "Omnibus:                      437.009   Durbin-Watson:                   2.053\n",
       "Prob(Omnibus):                  0.000   Jarque-Bera (JB):              831.420\n",
       "Skew:                           0.031   Prob(JB):                    2.88e-181\n",
       "Kurtosis:                       3.813   Cond. No.                     1.57e+06\n",
       "==============================================================================\n",
       "\n",
       "Notes:\n",
       "[1] Standard Errors assume that the covariance matrix of the errors is correctly specified.\n",
       "[2] The condition number is large, 1.57e+06. This might indicate that there are\n",
       "strong multicollinearity or other numerical problems.\n",
       "\"\"\""
      ]
     },
     "execution_count": 55,
     "metadata": {},
     "output_type": "execute_result"
    }
   ],
   "source": [
    "results.summary()"
   ]
  },
  {
   "cell_type": "markdown",
   "id": "a701a79f-93d8-4856-8f1f-61b25b972160",
   "metadata": {},
   "source": [
    "# Model 2"
   ]
  },
  {
   "cell_type": "code",
   "execution_count": 56,
   "id": "6bd0e7ae-9510-406c-a759-2124f9e70bf0",
   "metadata": {},
   "outputs": [],
   "source": [
    "LR_df_v2 = pd.DataFrame({'lag1': ts.shift(1),\n",
    "              'lag5': ts.shift(5),\n",
    "              'target': ts})"
   ]
  },
  {
   "cell_type": "code",
   "execution_count": 57,
   "id": "0b74c2d8-4305-4b24-8863-d87b2cac81b3",
   "metadata": {},
   "outputs": [],
   "source": [
    "LR_df_v2 = LR_df_v2.dropna().reset_index(drop=True)"
   ]
  },
  {
   "cell_type": "code",
   "execution_count": 58,
   "id": "e5b69034-49b8-4359-8114-47f18439d21e",
   "metadata": {},
   "outputs": [],
   "source": [
    "X = LR_df_v2[['lag1','lag5']]\n",
    "y = LR_df_v2['target']\n",
    "model = sm.OLS(y, sm.add_constant(X))\n",
    "results = model.fit()"
   ]
  },
  {
   "cell_type": "code",
   "execution_count": 59,
   "id": "836bf4b7-6d0d-4845-b766-bf993c38107d",
   "metadata": {},
   "outputs": [
    {
     "data": {
      "text/plain": [
       "const    3.881266\n",
       "lag1     0.591584\n",
       "lag5     0.407646\n",
       "dtype: float64"
      ]
     },
     "execution_count": 59,
     "metadata": {},
     "output_type": "execute_result"
    }
   ],
   "source": [
    "results.params"
   ]
  },
  {
   "cell_type": "markdown",
   "id": "b07fede5-9f8a-4dce-8e8e-e12b032ed0b2",
   "metadata": {},
   "source": [
    "# Model 3"
   ]
  },
  {
   "cell_type": "code",
   "execution_count": 62,
   "id": "2c3bf6ef-ee8c-41cb-9d83-170d1affdb74",
   "metadata": {},
   "outputs": [
    {
     "data": {
      "text/plain": [
       "0             NaN\n",
       "1             NaN\n",
       "2             NaN\n",
       "3        1.108678\n",
       "4        1.471960\n",
       "           ...   \n",
       "29995    0.478714\n",
       "29996    0.645497\n",
       "29997    1.108678\n",
       "29998    1.750000\n",
       "29999    1.658312\n",
       "Name: mid_price, Length: 30000, dtype: float64"
      ]
     },
     "execution_count": 62,
     "metadata": {},
     "output_type": "execute_result"
    }
   ],
   "source": [
    "ts.rolling(4).std()"
   ]
  },
  {
   "cell_type": "code",
   "execution_count": 64,
   "id": "9b333a7e-ad71-4e2f-adfb-ac91373cd09b",
   "metadata": {},
   "outputs": [],
   "source": [
    "LR_df_3 = pd.DataFrame({'lag1': ts.shift(1),\n",
    "              'lag2': ts.shift(2),\n",
    "              'lag3': ts.shift(3),\n",
    "              'lag4': ts.shift(4),\n",
    "              'rolling_std': ts.rolling(4).std(),\n",
    "              'target': ts})\n"
   ]
  },
  {
   "cell_type": "code",
   "execution_count": 66,
   "id": "b6634564-9500-4233-b630-31f2034b5144",
   "metadata": {},
   "outputs": [],
   "source": [
    "LR_df_3 = LR_df_3.dropna()"
   ]
  },
  {
   "cell_type": "code",
   "execution_count": 68,
   "id": "2bfde6de-8e0e-4739-9805-8dd68a2a6317",
   "metadata": {},
   "outputs": [],
   "source": [
    "X = LR_df_3[['lag1','lag2','lag3','lag4','rolling_std']]\n",
    "y = LR_df_3['target']\n",
    "model = sm.OLS(y, sm.add_constant(X))\n",
    "results = model.fit()"
   ]
  },
  {
   "cell_type": "markdown",
   "id": "7b9a5291-fd1a-4ea5-b87d-e32d208bd376",
   "metadata": {},
   "source": [
    "# Model 4"
   ]
  },
  {
   "cell_type": "code",
   "execution_count": 80,
   "id": "92ae95b9-1db4-4bcf-bb80-1f43a2263f98",
   "metadata": {},
   "outputs": [],
   "source": [
    "from sklearn.linear_model import Ridge\n",
    "\n",
    "LR_df = pd.DataFrame({'lag1': ts.shift(1),\n",
    "              'lag2': ts.shift(2),\n",
    "              'lag3': ts.shift(3),\n",
    "              'lag4': ts.shift(4),\n",
    "              'target': ts})\n",
    "\n",
    "LR_df = LR_df.dropna().reset_index(drop=True)\n",
    "\n",
    "X = LR_df[['lag1','lag2','lag3','lag4']]\n",
    "y = LR_df['target']\n",
    "\n",
    "ridge_model = Ridge(alpha=0.1)\n",
    "\n",
    "ridge_model.fit(X, y)\n",
    "\n",
    "coefficients = ridge_model.coef_\n",
    "intercept = ridge_model.intercept_\n"
   ]
  },
  {
   "cell_type": "code",
   "execution_count": 81,
   "id": "d05131d3-2dbb-49ac-8826-c1f387e27da3",
   "metadata": {},
   "outputs": [
    {
     "data": {
      "text/plain": [
       "array([0.34176848, 0.26106907, 0.20770686, 0.18898855])"
      ]
     },
     "execution_count": 81,
     "metadata": {},
     "output_type": "execute_result"
    }
   ],
   "source": [
    "coefficients"
   ]
  },
  {
   "cell_type": "code",
   "execution_count": 82,
   "id": "bf9bc09f-6027-427b-bb19-9b8e8aa77240",
   "metadata": {},
   "outputs": [
    {
     "data": {
      "text/plain": [
       "2.356498442803968"
      ]
     },
     "execution_count": 82,
     "metadata": {},
     "output_type": "execute_result"
    }
   ],
   "source": [
    "intercept"
   ]
  },
  {
   "cell_type": "markdown",
   "id": "4be9fbdf-7212-433e-92cc-bb3591aa68ba",
   "metadata": {},
   "source": [
    "# Model 5"
   ]
  },
  {
   "cell_type": "code",
   "execution_count": 103,
   "id": "559dc140-e340-4439-bf48-99505a71852c",
   "metadata": {},
   "outputs": [
    {
     "name": "stderr",
     "output_type": "stream",
     "text": [
      "/Users/jadonng/anaconda3/lib/python3.11/site-packages/sklearn/linear_model/_coordinate_descent.py:628: ConvergenceWarning: Objective did not converge. You might want to increase the number of iterations, check the scale of the features or consider increasing regularisation. Duality gap: 5.925e+03, tolerance: 3.130e+03\n",
      "  model = cd_fast.enet_coordinate_descent(\n"
     ]
    }
   ],
   "source": [
    "from sklearn.linear_model import Lasso\n",
    "\n",
    "LR_df = pd.DataFrame({'lag1': ts.shift(1),\n",
    "              'lag2': ts.shift(2),\n",
    "              'lag3': ts.shift(3),\n",
    "              'lag4': ts.shift(4),\n",
    "              'target': ts})\n",
    "\n",
    "LR_df = LR_df.dropna().reset_index(drop=True)\n",
    "\n",
    "X = LR_df[['lag1','lag2','lag3','lag4']]\n",
    "y = LR_df['target']\n",
    "\n",
    "lasso_model = Lasso(alpha=0.5)\n",
    "\n",
    "lasso_model.fit(X, y)\n",
    "\n",
    "coefficients = lasso_model.coef_\n",
    "intercept = lasso_model.intercept_"
   ]
  },
  {
   "cell_type": "code",
   "execution_count": 104,
   "id": "db820ae1-b246-4f45-92d1-95256c0a7f93",
   "metadata": {},
   "outputs": [
    {
     "data": {
      "text/plain": [
       "array([0.36342121, 0.34247111, 0.20332592, 0.08998536])"
      ]
     },
     "execution_count": 104,
     "metadata": {},
     "output_type": "execute_result"
    }
   ],
   "source": [
    "coefficients"
   ]
  },
  {
   "cell_type": "code",
   "execution_count": 105,
   "id": "7cc64bbd-96b9-4cbf-a7d3-ef9fc3b44ca1",
   "metadata": {},
   "outputs": [
    {
     "data": {
      "text/plain": [
       "4.015274972830412"
      ]
     },
     "execution_count": 105,
     "metadata": {},
     "output_type": "execute_result"
    }
   ],
   "source": [
    "intercept"
   ]
  },
  {
   "cell_type": "code",
   "execution_count": 106,
   "id": "17c23e0d-716f-4a87-861f-5e1cd2c3fae6",
   "metadata": {},
   "outputs": [
    {
     "data": {
      "text/plain": [
       "2.0086874249322846"
      ]
     },
     "execution_count": 106,
     "metadata": {},
     "output_type": "execute_result"
    }
   ],
   "source": [
    "mean_squared_error(lasso_model.predict(X),y)"
   ]
  },
  {
   "cell_type": "markdown",
   "id": "6fb81c8d-e9f3-4fbc-b3e4-612986aa3cdb",
   "metadata": {},
   "source": [
    "# Model v6"
   ]
  },
  {
   "cell_type": "code",
   "execution_count": 97,
   "id": "5ae72ccc-02c8-4b8d-bf0b-8bcab02a854c",
   "metadata": {},
   "outputs": [
    {
     "data": {
      "text/html": [
       "<div>\n",
       "<style scoped>\n",
       "    .dataframe tbody tr th:only-of-type {\n",
       "        vertical-align: middle;\n",
       "    }\n",
       "\n",
       "    .dataframe tbody tr th {\n",
       "        vertical-align: top;\n",
       "    }\n",
       "\n",
       "    .dataframe thead th {\n",
       "        text-align: right;\n",
       "    }\n",
       "</style>\n",
       "<table border=\"1\" class=\"dataframe\">\n",
       "  <thead>\n",
       "    <tr style=\"text-align: right;\">\n",
       "      <th></th>\n",
       "      <th>lag1</th>\n",
       "      <th>lag2</th>\n",
       "      <th>lag3</th>\n",
       "      <th>lag4</th>\n",
       "      <th>target</th>\n",
       "    </tr>\n",
       "  </thead>\n",
       "  <tbody>\n",
       "    <tr>\n",
       "      <th>0</th>\n",
       "      <td>NaN</td>\n",
       "      <td>NaN</td>\n",
       "      <td>NaN</td>\n",
       "      <td>NaN</td>\n",
       "      <td>5002.0</td>\n",
       "    </tr>\n",
       "    <tr>\n",
       "      <th>1</th>\n",
       "      <td>5000.0</td>\n",
       "      <td>NaN</td>\n",
       "      <td>NaN</td>\n",
       "      <td>NaN</td>\n",
       "      <td>4999.5</td>\n",
       "    </tr>\n",
       "    <tr>\n",
       "      <th>2</th>\n",
       "      <td>5002.0</td>\n",
       "      <td>5000.0</td>\n",
       "      <td>NaN</td>\n",
       "      <td>NaN</td>\n",
       "      <td>5000.0</td>\n",
       "    </tr>\n",
       "    <tr>\n",
       "      <th>3</th>\n",
       "      <td>5000.0</td>\n",
       "      <td>5002.0</td>\n",
       "      <td>5000.0</td>\n",
       "      <td>NaN</td>\n",
       "      <td>5002.5</td>\n",
       "    </tr>\n",
       "    <tr>\n",
       "      <th>4</th>\n",
       "      <td>4999.5</td>\n",
       "      <td>5000.0</td>\n",
       "      <td>5002.0</td>\n",
       "      <td>5000.0</td>\n",
       "      <td>5002.5</td>\n",
       "    </tr>\n",
       "    <tr>\n",
       "      <th>...</th>\n",
       "      <td>...</td>\n",
       "      <td>...</td>\n",
       "      <td>...</td>\n",
       "      <td>...</td>\n",
       "      <td>...</td>\n",
       "    </tr>\n",
       "    <tr>\n",
       "      <th>29995</th>\n",
       "      <td>5051.5</td>\n",
       "      <td>5052.0</td>\n",
       "      <td>5051.5</td>\n",
       "      <td>5052.0</td>\n",
       "      <td>NaN</td>\n",
       "    </tr>\n",
       "    <tr>\n",
       "      <th>29996</th>\n",
       "      <td>5052.5</td>\n",
       "      <td>5051.5</td>\n",
       "      <td>5052.0</td>\n",
       "      <td>5051.5</td>\n",
       "      <td>NaN</td>\n",
       "    </tr>\n",
       "    <tr>\n",
       "      <th>29997</th>\n",
       "      <td>5051.0</td>\n",
       "      <td>5052.5</td>\n",
       "      <td>5051.5</td>\n",
       "      <td>5052.0</td>\n",
       "      <td>NaN</td>\n",
       "    </tr>\n",
       "    <tr>\n",
       "      <th>29998</th>\n",
       "      <td>5053.5</td>\n",
       "      <td>5051.0</td>\n",
       "      <td>5052.5</td>\n",
       "      <td>5051.5</td>\n",
       "      <td>NaN</td>\n",
       "    </tr>\n",
       "    <tr>\n",
       "      <th>29999</th>\n",
       "      <td>5049.5</td>\n",
       "      <td>5053.5</td>\n",
       "      <td>5051.0</td>\n",
       "      <td>5052.5</td>\n",
       "      <td>NaN</td>\n",
       "    </tr>\n",
       "  </tbody>\n",
       "</table>\n",
       "<p>30000 rows × 5 columns</p>\n",
       "</div>"
      ],
      "text/plain": [
       "         lag1    lag2    lag3    lag4  target\n",
       "0         NaN     NaN     NaN     NaN  5002.0\n",
       "1      5000.0     NaN     NaN     NaN  4999.5\n",
       "2      5002.0  5000.0     NaN     NaN  5000.0\n",
       "3      5000.0  5002.0  5000.0     NaN  5002.5\n",
       "4      4999.5  5000.0  5002.0  5000.0  5002.5\n",
       "...       ...     ...     ...     ...     ...\n",
       "29995  5051.5  5052.0  5051.5  5052.0     NaN\n",
       "29996  5052.5  5051.5  5052.0  5051.5     NaN\n",
       "29997  5051.0  5052.5  5051.5  5052.0     NaN\n",
       "29998  5053.5  5051.0  5052.5  5051.5     NaN\n",
       "29999  5049.5  5053.5  5051.0  5052.5     NaN\n",
       "\n",
       "[30000 rows x 5 columns]"
      ]
     },
     "execution_count": 97,
     "metadata": {},
     "output_type": "execute_result"
    }
   ],
   "source": [
    "pd.DataFrame({'lag1': ts.shift(1),\n",
    "              'lag2': ts.shift(2),\n",
    "              'lag3': ts.shift(3),\n",
    "              'lag4': ts.shift(4),\n",
    "              'target': ts.shift(-5)})"
   ]
  },
  {
   "cell_type": "code",
   "execution_count": 117,
   "id": "1f26002f-4626-49fa-944d-3e042c88e7db",
   "metadata": {},
   "outputs": [
    {
     "name": "stderr",
     "output_type": "stream",
     "text": [
      "/Users/jadonng/anaconda3/lib/python3.11/site-packages/sklearn/linear_model/_coordinate_descent.py:628: ConvergenceWarning: Objective did not converge. You might want to increase the number of iterations, check the scale of the features or consider increasing regularisation. Duality gap: 5.796e+03, tolerance: 3.129e+03\n",
      "  model = cd_fast.enet_coordinate_descent(\n"
     ]
    }
   ],
   "source": [
    "from sklearn.linear_model import Lasso\n",
    "\n",
    "LR_df_5 = pd.DataFrame({'lag1': ts.shift(1),\n",
    "              'lag2': ts.shift(2),\n",
    "              'lag3': ts.shift(3),\n",
    "              'lag4': ts.shift(4),\n",
    "              'target': ts.shift(-5)})\n",
    "\n",
    "LR_df_5 = LR_df_5.dropna().reset_index(drop=True)\n",
    "\n",
    "X = LR_df_5[['lag1','lag2','lag3','lag4']]\n",
    "y = LR_df_5['target']\n",
    "\n",
    "lasso_model = Lasso(alpha=0.5)\n",
    "\n",
    "lasso_model.fit(X, y)\n",
    "\n",
    "coefficients = lasso_model.coef_\n",
    "intercept = lasso_model.intercept_"
   ]
  },
  {
   "cell_type": "code",
   "execution_count": 118,
   "id": "db844742-c1aa-46e8-a794-19716638d2f2",
   "metadata": {},
   "outputs": [
    {
     "data": {
      "text/plain": [
       "array([0.37049416, 0.34303531, 0.19067047, 0.09452187])"
      ]
     },
     "execution_count": 118,
     "metadata": {},
     "output_type": "execute_result"
    }
   ],
   "source": [
    "coefficients"
   ]
  },
  {
   "cell_type": "code",
   "execution_count": 119,
   "id": "9b343c9c-bba5-4681-913a-e2f21a7b15ed",
   "metadata": {},
   "outputs": [
    {
     "data": {
      "text/plain": [
       "6.4507169901571615"
      ]
     },
     "execution_count": 119,
     "metadata": {},
     "output_type": "execute_result"
    }
   ],
   "source": [
    "intercept"
   ]
  },
  {
   "cell_type": "code",
   "execution_count": 120,
   "id": "0833639f-463e-41ea-bd2d-57f99fc219aa",
   "metadata": {},
   "outputs": [
    {
     "data": {
      "text/plain": [
       "array([5000.25589209, 4999.52158307, 5000.19089836, ..., 5052.66882127,\n",
       "       5052.09327794, 5051.91633689])"
      ]
     },
     "execution_count": 120,
     "metadata": {},
     "output_type": "execute_result"
    }
   ],
   "source": [
    "lasso_model.predict(X)"
   ]
  },
  {
   "cell_type": "code",
   "execution_count": 121,
   "id": "c41136ff-b2d6-4303-be6c-116fb5c03cb4",
   "metadata": {},
   "outputs": [
    {
     "data": {
      "text/plain": [
       "2.8097979369204427"
      ]
     },
     "execution_count": 121,
     "metadata": {},
     "output_type": "execute_result"
    }
   ],
   "source": [
    "from sklearn.metrics import mean_squared_error\n",
    "mean_squared_error(lasso_model.predict(X),y)"
   ]
  },
  {
   "cell_type": "markdown",
   "id": "30752506-ccdd-469b-a270-c73561551885",
   "metadata": {},
   "source": [
    "# Analysis"
   ]
  },
  {
   "cell_type": "code",
   "execution_count": 124,
   "id": "924fd929-7a1c-4d43-8db8-9f908b380bbc",
   "metadata": {},
   "outputs": [],
   "source": [
    "day0_ame = price0[price0['product']=='AMETHYSTS']"
   ]
  },
  {
   "cell_type": "code",
   "execution_count": 126,
   "id": "14706323-82ae-4861-afb4-4b0b4e2bfcd9",
   "metadata": {},
   "outputs": [
    {
     "data": {
      "text/html": [
       "<div>\n",
       "<style scoped>\n",
       "    .dataframe tbody tr th:only-of-type {\n",
       "        vertical-align: middle;\n",
       "    }\n",
       "\n",
       "    .dataframe tbody tr th {\n",
       "        vertical-align: top;\n",
       "    }\n",
       "\n",
       "    .dataframe thead th {\n",
       "        text-align: right;\n",
       "    }\n",
       "</style>\n",
       "<table border=\"1\" class=\"dataframe\">\n",
       "  <thead>\n",
       "    <tr style=\"text-align: right;\">\n",
       "      <th></th>\n",
       "      <th>day</th>\n",
       "      <th>timestamp</th>\n",
       "      <th>product</th>\n",
       "      <th>bid_price_1</th>\n",
       "      <th>bid_volume_1</th>\n",
       "      <th>bid_price_2</th>\n",
       "      <th>bid_volume_2</th>\n",
       "      <th>bid_price_3</th>\n",
       "      <th>bid_volume_3</th>\n",
       "      <th>ask_price_1</th>\n",
       "      <th>ask_volume_1</th>\n",
       "      <th>ask_price_2</th>\n",
       "      <th>ask_volume_2</th>\n",
       "      <th>ask_price_3</th>\n",
       "      <th>ask_volume_3</th>\n",
       "      <th>mid_price</th>\n",
       "      <th>profit_and_loss</th>\n",
       "    </tr>\n",
       "  </thead>\n",
       "  <tbody>\n",
       "    <tr>\n",
       "      <th>10</th>\n",
       "      <td>0</td>\n",
       "      <td>500</td>\n",
       "      <td>AMETHYSTS</td>\n",
       "      <td>10002</td>\n",
       "      <td>1</td>\n",
       "      <td>9996.0</td>\n",
       "      <td>2.0</td>\n",
       "      <td>9995.0</td>\n",
       "      <td>22.0</td>\n",
       "      <td>10004</td>\n",
       "      <td>2</td>\n",
       "      <td>10005.0</td>\n",
       "      <td>22.0</td>\n",
       "      <td>NaN</td>\n",
       "      <td>NaN</td>\n",
       "      <td>10003.0</td>\n",
       "      <td>0.0</td>\n",
       "    </tr>\n",
       "    <tr>\n",
       "      <th>31</th>\n",
       "      <td>0</td>\n",
       "      <td>1500</td>\n",
       "      <td>AMETHYSTS</td>\n",
       "      <td>10002</td>\n",
       "      <td>1</td>\n",
       "      <td>9996.0</td>\n",
       "      <td>2.0</td>\n",
       "      <td>9995.0</td>\n",
       "      <td>20.0</td>\n",
       "      <td>10004</td>\n",
       "      <td>2</td>\n",
       "      <td>10005.0</td>\n",
       "      <td>20.0</td>\n",
       "      <td>NaN</td>\n",
       "      <td>NaN</td>\n",
       "      <td>10003.0</td>\n",
       "      <td>0.0</td>\n",
       "    </tr>\n",
       "    <tr>\n",
       "      <th>58</th>\n",
       "      <td>0</td>\n",
       "      <td>2900</td>\n",
       "      <td>AMETHYSTS</td>\n",
       "      <td>10002</td>\n",
       "      <td>10</td>\n",
       "      <td>9996.0</td>\n",
       "      <td>2.0</td>\n",
       "      <td>9995.0</td>\n",
       "      <td>23.0</td>\n",
       "      <td>10004</td>\n",
       "      <td>2</td>\n",
       "      <td>10005.0</td>\n",
       "      <td>23.0</td>\n",
       "      <td>NaN</td>\n",
       "      <td>NaN</td>\n",
       "      <td>10003.0</td>\n",
       "      <td>0.0</td>\n",
       "    </tr>\n",
       "    <tr>\n",
       "      <th>77</th>\n",
       "      <td>0</td>\n",
       "      <td>3800</td>\n",
       "      <td>AMETHYSTS</td>\n",
       "      <td>10002</td>\n",
       "      <td>1</td>\n",
       "      <td>9996.0</td>\n",
       "      <td>1.0</td>\n",
       "      <td>9995.0</td>\n",
       "      <td>29.0</td>\n",
       "      <td>10004</td>\n",
       "      <td>1</td>\n",
       "      <td>10005.0</td>\n",
       "      <td>29.0</td>\n",
       "      <td>NaN</td>\n",
       "      <td>NaN</td>\n",
       "      <td>10003.0</td>\n",
       "      <td>0.0</td>\n",
       "    </tr>\n",
       "    <tr>\n",
       "      <th>81</th>\n",
       "      <td>0</td>\n",
       "      <td>4000</td>\n",
       "      <td>AMETHYSTS</td>\n",
       "      <td>10002</td>\n",
       "      <td>9</td>\n",
       "      <td>9996.0</td>\n",
       "      <td>2.0</td>\n",
       "      <td>9995.0</td>\n",
       "      <td>27.0</td>\n",
       "      <td>10004</td>\n",
       "      <td>2</td>\n",
       "      <td>10005.0</td>\n",
       "      <td>27.0</td>\n",
       "      <td>NaN</td>\n",
       "      <td>NaN</td>\n",
       "      <td>10003.0</td>\n",
       "      <td>0.0</td>\n",
       "    </tr>\n",
       "    <tr>\n",
       "      <th>...</th>\n",
       "      <td>...</td>\n",
       "      <td>...</td>\n",
       "      <td>...</td>\n",
       "      <td>...</td>\n",
       "      <td>...</td>\n",
       "      <td>...</td>\n",
       "      <td>...</td>\n",
       "      <td>...</td>\n",
       "      <td>...</td>\n",
       "      <td>...</td>\n",
       "      <td>...</td>\n",
       "      <td>...</td>\n",
       "      <td>...</td>\n",
       "      <td>...</td>\n",
       "      <td>...</td>\n",
       "      <td>...</td>\n",
       "      <td>...</td>\n",
       "    </tr>\n",
       "    <tr>\n",
       "      <th>19935</th>\n",
       "      <td>0</td>\n",
       "      <td>996700</td>\n",
       "      <td>AMETHYSTS</td>\n",
       "      <td>10002</td>\n",
       "      <td>7</td>\n",
       "      <td>9995.0</td>\n",
       "      <td>21.0</td>\n",
       "      <td>NaN</td>\n",
       "      <td>NaN</td>\n",
       "      <td>10005</td>\n",
       "      <td>21</td>\n",
       "      <td>NaN</td>\n",
       "      <td>NaN</td>\n",
       "      <td>NaN</td>\n",
       "      <td>NaN</td>\n",
       "      <td>10003.5</td>\n",
       "      <td>0.0</td>\n",
       "    </tr>\n",
       "    <tr>\n",
       "      <th>19952</th>\n",
       "      <td>0</td>\n",
       "      <td>997600</td>\n",
       "      <td>AMETHYSTS</td>\n",
       "      <td>10002</td>\n",
       "      <td>4</td>\n",
       "      <td>9995.0</td>\n",
       "      <td>24.0</td>\n",
       "      <td>NaN</td>\n",
       "      <td>NaN</td>\n",
       "      <td>10005</td>\n",
       "      <td>24</td>\n",
       "      <td>NaN</td>\n",
       "      <td>NaN</td>\n",
       "      <td>NaN</td>\n",
       "      <td>NaN</td>\n",
       "      <td>10003.5</td>\n",
       "      <td>0.0</td>\n",
       "    </tr>\n",
       "    <tr>\n",
       "      <th>19969</th>\n",
       "      <td>0</td>\n",
       "      <td>998400</td>\n",
       "      <td>AMETHYSTS</td>\n",
       "      <td>10002</td>\n",
       "      <td>4</td>\n",
       "      <td>9995.0</td>\n",
       "      <td>23.0</td>\n",
       "      <td>NaN</td>\n",
       "      <td>NaN</td>\n",
       "      <td>10005</td>\n",
       "      <td>23</td>\n",
       "      <td>NaN</td>\n",
       "      <td>NaN</td>\n",
       "      <td>NaN</td>\n",
       "      <td>NaN</td>\n",
       "      <td>10003.5</td>\n",
       "      <td>0.0</td>\n",
       "    </tr>\n",
       "    <tr>\n",
       "      <th>19977</th>\n",
       "      <td>0</td>\n",
       "      <td>998800</td>\n",
       "      <td>AMETHYSTS</td>\n",
       "      <td>10002</td>\n",
       "      <td>2</td>\n",
       "      <td>9995.0</td>\n",
       "      <td>26.0</td>\n",
       "      <td>NaN</td>\n",
       "      <td>NaN</td>\n",
       "      <td>10005</td>\n",
       "      <td>26</td>\n",
       "      <td>NaN</td>\n",
       "      <td>NaN</td>\n",
       "      <td>NaN</td>\n",
       "      <td>NaN</td>\n",
       "      <td>10003.5</td>\n",
       "      <td>0.0</td>\n",
       "    </tr>\n",
       "    <tr>\n",
       "      <th>19981</th>\n",
       "      <td>0</td>\n",
       "      <td>999000</td>\n",
       "      <td>AMETHYSTS</td>\n",
       "      <td>10002</td>\n",
       "      <td>5</td>\n",
       "      <td>9995.0</td>\n",
       "      <td>27.0</td>\n",
       "      <td>NaN</td>\n",
       "      <td>NaN</td>\n",
       "      <td>10005</td>\n",
       "      <td>27</td>\n",
       "      <td>NaN</td>\n",
       "      <td>NaN</td>\n",
       "      <td>NaN</td>\n",
       "      <td>NaN</td>\n",
       "      <td>10003.5</td>\n",
       "      <td>0.0</td>\n",
       "    </tr>\n",
       "  </tbody>\n",
       "</table>\n",
       "<p>825 rows × 17 columns</p>\n",
       "</div>"
      ],
      "text/plain": [
       "       day  timestamp    product  bid_price_1  bid_volume_1  bid_price_2  \\\n",
       "10       0        500  AMETHYSTS        10002             1       9996.0   \n",
       "31       0       1500  AMETHYSTS        10002             1       9996.0   \n",
       "58       0       2900  AMETHYSTS        10002            10       9996.0   \n",
       "77       0       3800  AMETHYSTS        10002             1       9996.0   \n",
       "81       0       4000  AMETHYSTS        10002             9       9996.0   \n",
       "...    ...        ...        ...          ...           ...          ...   \n",
       "19935    0     996700  AMETHYSTS        10002             7       9995.0   \n",
       "19952    0     997600  AMETHYSTS        10002             4       9995.0   \n",
       "19969    0     998400  AMETHYSTS        10002             4       9995.0   \n",
       "19977    0     998800  AMETHYSTS        10002             2       9995.0   \n",
       "19981    0     999000  AMETHYSTS        10002             5       9995.0   \n",
       "\n",
       "       bid_volume_2  bid_price_3  bid_volume_3  ask_price_1  ask_volume_1  \\\n",
       "10              2.0       9995.0          22.0        10004             2   \n",
       "31              2.0       9995.0          20.0        10004             2   \n",
       "58              2.0       9995.0          23.0        10004             2   \n",
       "77              1.0       9995.0          29.0        10004             1   \n",
       "81              2.0       9995.0          27.0        10004             2   \n",
       "...             ...          ...           ...          ...           ...   \n",
       "19935          21.0          NaN           NaN        10005            21   \n",
       "19952          24.0          NaN           NaN        10005            24   \n",
       "19969          23.0          NaN           NaN        10005            23   \n",
       "19977          26.0          NaN           NaN        10005            26   \n",
       "19981          27.0          NaN           NaN        10005            27   \n",
       "\n",
       "       ask_price_2  ask_volume_2  ask_price_3  ask_volume_3  mid_price  \\\n",
       "10         10005.0          22.0          NaN           NaN    10003.0   \n",
       "31         10005.0          20.0          NaN           NaN    10003.0   \n",
       "58         10005.0          23.0          NaN           NaN    10003.0   \n",
       "77         10005.0          29.0          NaN           NaN    10003.0   \n",
       "81         10005.0          27.0          NaN           NaN    10003.0   \n",
       "...            ...           ...          ...           ...        ...   \n",
       "19935          NaN           NaN          NaN           NaN    10003.5   \n",
       "19952          NaN           NaN          NaN           NaN    10003.5   \n",
       "19969          NaN           NaN          NaN           NaN    10003.5   \n",
       "19977          NaN           NaN          NaN           NaN    10003.5   \n",
       "19981          NaN           NaN          NaN           NaN    10003.5   \n",
       "\n",
       "       profit_and_loss  \n",
       "10                 0.0  \n",
       "31                 0.0  \n",
       "58                 0.0  \n",
       "77                 0.0  \n",
       "81                 0.0  \n",
       "...                ...  \n",
       "19935              0.0  \n",
       "19952              0.0  \n",
       "19969              0.0  \n",
       "19977              0.0  \n",
       "19981              0.0  \n",
       "\n",
       "[825 rows x 17 columns]"
      ]
     },
     "execution_count": 126,
     "metadata": {},
     "output_type": "execute_result"
    }
   ],
   "source": [
    "day0_ame.query('bid_price_1 > 10000')['bid_price_1']"
   ]
  },
  {
   "cell_type": "code",
   "execution_count": null,
   "id": "14f3103e-f75d-4cda-9dad-b0a29c1c0e32",
   "metadata": {},
   "outputs": [],
   "source": []
  }
 ],
 "metadata": {
  "kernelspec": {
   "display_name": "Python 3 (ipykernel)",
   "language": "python",
   "name": "python3"
  },
  "language_info": {
   "codemirror_mode": {
    "name": "ipython",
    "version": 3
   },
   "file_extension": ".py",
   "mimetype": "text/x-python",
   "name": "python",
   "nbconvert_exporter": "python",
   "pygments_lexer": "ipython3",
   "version": "3.11.5"
  }
 },
 "nbformat": 4,
 "nbformat_minor": 5
}
